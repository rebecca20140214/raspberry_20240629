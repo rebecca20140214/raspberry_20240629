{
 "cells": [
  {
   "cell_type": "code",
   "execution_count": 4,
   "metadata": {},
   "outputs": [
    {
     "name": "stdout",
     "output_type": "stream",
     "text": [
      "\n",
      "12,12.0,12.0,abc,efg\n",
      "12,12.0,12.0,abc,efg.\n"
     ]
    }
   ],
   "source": [
    "print()\n",
    "print(12,12.0,'12.0','abc','efg',sep=',')\n",
    "print(12,12.0,'12.0','abc','efg',sep=',',end='.\\n')"
   ]
  },
  {
   "cell_type": "code",
   "execution_count": 9,
   "metadata": {},
   "outputs": [
    {
     "name": "stdout",
     "output_type": "stream",
     "text": [
      "rebert 78 89.0 65.0\n"
     ]
    },
    {
     "data": {
      "text/plain": [
       "str"
      ]
     },
     "execution_count": 9,
     "metadata": {},
     "output_type": "execute_result"
    }
   ],
   "source": [
    "name='rebert'\n",
    "chinese = 78\n",
    "englist =89.0\n",
    "math  = 65.0\n",
    "print(name,chinese,englist,math)\n",
    "type(name) "
   ]
  },
  {
   "cell_type": "code",
   "execution_count": 27,
   "metadata": {},
   "outputs": [
    {
     "name": "stdout",
     "output_type": "stream",
     "text": [
      "13\n",
      "27\n",
      "53\n",
      "80\n",
      "3.5\n"
     ]
    }
   ],
   "source": [
    "print(5+8)\n",
    "print(3**3)\n",
    "print(3+5 *10)\n",
    "print((3+5) *10)\n",
    "print(7/2)\n",
    "print(7%2)"
   ]
  },
  {
   "cell_type": "code",
   "execution_count": 24,
   "metadata": {},
   "outputs": [
    {
     "data": {
      "text/plain": [
       "8"
      ]
     },
     "execution_count": 24,
     "metadata": {},
     "output_type": "execute_result"
    }
   ],
   "source": [
    "import random \n",
    "\n",
    "randnum  = random .randint(1,10)\n",
    "randnum\n"
   ]
  }
 ],
 "metadata": {
  "kernelspec": {
   "display_name": "myenv1",
   "language": "python",
   "name": "python3"
  },
  "language_info": {
   "codemirror_mode": {
    "name": "ipython",
    "version": 3
   },
   "file_extension": ".py",
   "mimetype": "text/x-python",
   "name": "python",
   "nbconvert_exporter": "python",
   "pygments_lexer": "ipython3",
   "version": "3.11.2"
  }
 },
 "nbformat": 4,
 "nbformat_minor": 2
}
